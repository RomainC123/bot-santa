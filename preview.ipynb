{
 "cells": [
  {
   "cell_type": "code",
   "execution_count": 76,
   "metadata": {},
   "outputs": [],
   "source": [
    "import numpy as np"
   ]
  },
  {
   "cell_type": "code",
   "execution_count": 114,
   "metadata": {},
   "outputs": [],
   "source": [
    "def chain(dict_names):\n",
    "\n",
    "    list_ids = list(dict_names.keys())\n",
    "    np.random.shuffle(list_ids)\n",
    "\n",
    "    list_couples = []\n",
    "\n",
    "    for i in range(len(list_ids) - 1):\n",
    "        list_couples.append((list_ids[i], list_ids[i+1]))\n",
    "\n",
    "    list_couples.append((list_ids[-1], list_ids[0]))\n",
    "    \n",
    "    dict_couples = {}\n",
    "    cnt = 0\n",
    "    for couple in list_couples:\n",
    "        dict_couples[dict_names[couple[0]]] = dict_names[couple[1]]\n",
    "\n",
    "    return dict_couples"
   ]
  },
  {
   "cell_type": "code",
   "execution_count": 115,
   "metadata": {},
   "outputs": [],
   "source": [
    "import pickle\n",
    "\n",
    "def init(args):\n",
    "    \"\"\"\n",
    "    Input: @ of all participants\n",
    "    Output: Pickled dict {id: 'name'}\n",
    "    \"\"\"\n",
    "    list_names = args\n",
    "    dict_names = {}\n",
    "    for i in range(len(list_names)):\n",
    "        dict_names[i] = list_names[i]\n",
    "\n",
    "    dict_couples = chain(dict_names)\n",
    "    with open('data/chains.pkl', 'wb') as f:\n",
    "        pickle.dump(dict_couples, f)"
   ]
  },
  {
   "cell_type": "code",
   "execution_count": 116,
   "metadata": {},
   "outputs": [],
   "source": [
    "a =['A', 'B', 'C', 'D']\n",
    "init(a)"
   ]
  },
  {
   "cell_type": "code",
   "execution_count": 117,
   "metadata": {},
   "outputs": [],
   "source": [
    "with open('data/chains.pkl', 'rb') as f:\n",
    "        dict_couples = pickle.load(f)"
   ]
  },
  {
   "cell_type": "code",
   "execution_count": 118,
   "metadata": {},
   "outputs": [
    {
     "data": {
      "text/plain": [
       "{'B': 'A', 'A': 'D', 'D': 'C', 'C': 'B'}"
      ]
     },
     "execution_count": 118,
     "metadata": {},
     "output_type": "execute_result"
    }
   ],
   "source": [
    "dict_couples"
   ]
  },
  {
   "cell_type": "code",
   "execution_count": 101,
   "metadata": {},
   "outputs": [],
   "source": [
    "def grab_name():\n",
    "    \"\"\"\n",
    "    Sends messages to givers, with the name of the person that was chosen for them.\n",
    "    \"\"\"\n",
    "    with open('data/chains.pkl', 'rb') as f:\n",
    "        dict_couples = pickle.load(f)\n",
    "\n",
    "    for couple in list(dict_couples.values()):\n",
    "        print(f\"{couple['donneur']} will give a gift to {couple['receveur']}\")\n",
    "        \"\"\"\n",
    "        Here we go with send to couple['donneur'] a massage with text: f'Tu dois donner un cadeau à {couple['receveur']}\n",
    "        \"\"\""
   ]
  },
  {
   "cell_type": "code",
   "execution_count": 102,
   "metadata": {},
   "outputs": [
    {
     "name": "stdout",
     "output_type": "stream",
     "text": [
      "C will give a gift to D\n",
      "D will give a gift to A\n",
      "A will give a gift to B\n",
      "B will give a gift to C\n"
     ]
    }
   ],
   "source": [
    "grab_name()"
   ]
  },
  {
   "cell_type": "code",
   "execution_count": 109,
   "metadata": {},
   "outputs": [],
   "source": [
    "bot_token = open('data/token.txt', 'r').readline().strip()"
   ]
  },
  {
   "cell_type": "code",
   "execution_count": 110,
   "metadata": {},
   "outputs": [
    {
     "data": {
      "text/plain": [
       "'1215340378:AAH4IqZkkl1hfDFsEgxGKKpLWgQnfgNJt9w'"
      ]
     },
     "execution_count": 110,
     "metadata": {},
     "output_type": "execute_result"
    }
   ],
   "source": [
    "bot_token"
   ]
  },
  {
   "cell_type": "code",
   "execution_count": 111,
   "metadata": {},
   "outputs": [],
   "source": [
    "def telegram_bot_sendtext(chat_id, text):\n",
    "\n",
    "    bot_token = open('data/token.txt', 'r').readline().strip()\n",
    "    bot_chatID = str(chat_id)\n",
    "    send_text = 'https://api.telegram.org/bot' + bot_token + '/sendMessage?chat_id=' + bot_chatID + '&parse_mode=Markdown&text=' + text\n",
    "\n",
    "    response = requests.get(send_text)\n",
    "\n",
    "    return response.json()"
   ]
  },
  {
   "cell_type": "code",
   "execution_count": null,
   "metadata": {},
   "outputs": [],
   "source": [
    "test = telegram_bot_sendtext(\"Testing Telegram bot\")\n",
    "print(test)"
   ]
  }
 ],
 "metadata": {
  "kernelspec": {
   "display_name": "Python 3",
   "language": "python",
   "name": "python3"
  },
  "language_info": {
   "codemirror_mode": {
    "name": "ipython",
    "version": 3
   },
   "file_extension": ".py",
   "mimetype": "text/x-python",
   "name": "python",
   "nbconvert_exporter": "python",
   "pygments_lexer": "ipython3",
   "version": "3.7.6"
  }
 },
 "nbformat": 4,
 "nbformat_minor": 4
}
